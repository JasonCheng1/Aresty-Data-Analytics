{
 "cells": [
  {
   "cell_type": "markdown",
   "metadata": {},
   "source": [
    "# NoteBook dedicated to creating a Multivariate Control Chart with Hotelling T2\n"
   ]
  },
  {
   "cell_type": "code",
   "execution_count": 1,
   "metadata": {},
   "outputs": [],
   "source": [
    "import pandas as pd\n",
    "from matplotlib import pyplot as plt\n",
    "%matplotlib inline\n",
    "import numpy as np\n",
    "import glob\n",
    "import os\n",
    "from scipy.stats import beta"
   ]
  },
  {
   "cell_type": "markdown",
   "metadata": {},
   "source": [
    "Import the CSV file created in the Preprocessing Notebook"
   ]
  },
  {
   "cell_type": "code",
   "execution_count": 9,
   "metadata": {},
   "outputs": [
    {
     "data": {
      "text/html": [
       "<div>\n",
       "<style scoped>\n",
       "    .dataframe tbody tr th:only-of-type {\n",
       "        vertical-align: middle;\n",
       "    }\n",
       "\n",
       "    .dataframe tbody tr th {\n",
       "        vertical-align: top;\n",
       "    }\n",
       "\n",
       "    .dataframe thead th {\n",
       "        text-align: right;\n",
       "    }\n",
       "</style>\n",
       "<table border=\"1\" class=\"dataframe\">\n",
       "  <thead>\n",
       "    <tr style=\"text-align: right;\">\n",
       "      <th></th>\n",
       "      <th>Time</th>\n",
       "      <th>Dataset</th>\n",
       "      <th>Heat Zone</th>\n",
       "      <th>Max Temperature</th>\n",
       "      <th>Average Temperature</th>\n",
       "      <th>Sorted Heatmap</th>\n",
       "      <th>Average of Top 100 Temperature</th>\n",
       "      <th>Hourly Time</th>\n",
       "    </tr>\n",
       "  </thead>\n",
       "  <tbody>\n",
       "    <tr>\n",
       "      <td>0</td>\n",
       "      <td>21-June-19 11:05:59</td>\n",
       "      <td>[50.15  50.3   50.45  ... 50.225 50.15  50.075]</td>\n",
       "      <td>153427</td>\n",
       "      <td>207.5</td>\n",
       "      <td>81.657962</td>\n",
       "      <td>[ 50.006  50.006  50.006 ... 207.5   207.5   2...</td>\n",
       "      <td>203.44964</td>\n",
       "      <td>11:05:59</td>\n",
       "    </tr>\n",
       "    <tr>\n",
       "      <td>1</td>\n",
       "      <td>21-June-19 11:06:29</td>\n",
       "      <td>[50.2  50.4  50.6  ... 50.15 50.1  50.05]</td>\n",
       "      <td>203807</td>\n",
       "      <td>206.1</td>\n",
       "      <td>76.343216</td>\n",
       "      <td>[ 50.006  50.006  50.006 ... 206.1   206.1   2...</td>\n",
       "      <td>203.79698</td>\n",
       "      <td>11:06:29</td>\n",
       "    </tr>\n",
       "    <tr>\n",
       "      <td>2</td>\n",
       "      <td>21-June-19 11:08:44</td>\n",
       "      <td>[51.85  53.7   55.55  ... 50.338 50.225 50.112]</td>\n",
       "      <td>94795</td>\n",
       "      <td>179.4</td>\n",
       "      <td>73.001514</td>\n",
       "      <td>[ 50.006  50.006  50.006 ... 179.15  179.275 1...</td>\n",
       "      <td>176.38070</td>\n",
       "      <td>11:08:44</td>\n",
       "    </tr>\n",
       "    <tr>\n",
       "      <td>3</td>\n",
       "      <td>21-June-19 11:09:14</td>\n",
       "      <td>[50.425 50.85  51.275 ... 51.838 51.225 50.612]</td>\n",
       "      <td>121499</td>\n",
       "      <td>217.9</td>\n",
       "      <td>84.590920</td>\n",
       "      <td>[ 50.006  50.006  50.006 ... 217.625 217.75  2...</td>\n",
       "      <td>214.24490</td>\n",
       "      <td>11:09:14</td>\n",
       "    </tr>\n",
       "    <tr>\n",
       "      <td>4</td>\n",
       "      <td>21-June-19 11:09:44</td>\n",
       "      <td>[50.475 50.95  51.425 ... 50.075 50.05  50.025]</td>\n",
       "      <td>128739</td>\n",
       "      <td>193.3</td>\n",
       "      <td>84.295585</td>\n",
       "      <td>[ 50.006  50.006  50.006 ... 193.075 193.3   1...</td>\n",
       "      <td>191.43585</td>\n",
       "      <td>11:09:44</td>\n",
       "    </tr>\n",
       "  </tbody>\n",
       "</table>\n",
       "</div>"
      ],
      "text/plain": [
       "                  Time                                          Dataset  \\\n",
       "0  21-June-19 11:05:59  [50.15  50.3   50.45  ... 50.225 50.15  50.075]   \n",
       "1  21-June-19 11:06:29        [50.2  50.4  50.6  ... 50.15 50.1  50.05]   \n",
       "2  21-June-19 11:08:44  [51.85  53.7   55.55  ... 50.338 50.225 50.112]   \n",
       "3  21-June-19 11:09:14  [50.425 50.85  51.275 ... 51.838 51.225 50.612]   \n",
       "4  21-June-19 11:09:44  [50.475 50.95  51.425 ... 50.075 50.05  50.025]   \n",
       "\n",
       "   Heat Zone  Max Temperature  Average Temperature  \\\n",
       "0     153427            207.5            81.657962   \n",
       "1     203807            206.1            76.343216   \n",
       "2      94795            179.4            73.001514   \n",
       "3     121499            217.9            84.590920   \n",
       "4     128739            193.3            84.295585   \n",
       "\n",
       "                                      Sorted Heatmap  \\\n",
       "0  [ 50.006  50.006  50.006 ... 207.5   207.5   2...   \n",
       "1  [ 50.006  50.006  50.006 ... 206.1   206.1   2...   \n",
       "2  [ 50.006  50.006  50.006 ... 179.15  179.275 1...   \n",
       "3  [ 50.006  50.006  50.006 ... 217.625 217.75  2...   \n",
       "4  [ 50.006  50.006  50.006 ... 193.075 193.3   1...   \n",
       "\n",
       "   Average of Top 100 Temperature Hourly Time  \n",
       "0                       203.44964    11:05:59  \n",
       "1                       203.79698    11:06:29  \n",
       "2                       176.38070    11:08:44  \n",
       "3                       214.24490    11:09:14  \n",
       "4                       191.43585    11:09:44  "
      ]
     },
     "execution_count": 9,
     "metadata": {},
     "output_type": "execute_result"
    }
   ],
   "source": [
    "import csv \n",
    "filename = \"Preprocessing/Preprocessing M1.csv\"\n",
    "data = pd.read_csv(filename)\n",
    "del data[\"Unnamed: 0\"]\n",
    "data.head()"
   ]
  },
  {
   "cell_type": "markdown",
   "metadata": {},
   "source": [
    "Created a new Dataframe to store the Multivariate Control Chart Variables\n",
    "\n",
    "*UCL and T2 Columns will be filled in later*"
   ]
  },
  {
   "cell_type": "code",
   "execution_count": 3,
   "metadata": {
    "scrolled": true
   },
   "outputs": [
    {
     "data": {
      "text/html": [
       "<div>\n",
       "<style scoped>\n",
       "    .dataframe tbody tr th:only-of-type {\n",
       "        vertical-align: middle;\n",
       "    }\n",
       "\n",
       "    .dataframe tbody tr th {\n",
       "        vertical-align: top;\n",
       "    }\n",
       "\n",
       "    .dataframe thead th {\n",
       "        text-align: right;\n",
       "    }\n",
       "</style>\n",
       "<table border=\"1\" class=\"dataframe\">\n",
       "  <thead>\n",
       "    <tr style=\"text-align: right;\">\n",
       "      <th></th>\n",
       "      <th>Hourly Time</th>\n",
       "      <th>Heat Zone</th>\n",
       "      <th>Max Temperature</th>\n",
       "      <th>Average Temperature</th>\n",
       "      <th>UCL</th>\n",
       "      <th>T2</th>\n",
       "    </tr>\n",
       "  </thead>\n",
       "  <tbody>\n",
       "    <tr>\n",
       "      <td>0</td>\n",
       "      <td>11:05:59</td>\n",
       "      <td>153427</td>\n",
       "      <td>207.5</td>\n",
       "      <td>81.657962</td>\n",
       "      <td>NaN</td>\n",
       "      <td>NaN</td>\n",
       "    </tr>\n",
       "    <tr>\n",
       "      <td>1</td>\n",
       "      <td>11:06:29</td>\n",
       "      <td>203807</td>\n",
       "      <td>206.1</td>\n",
       "      <td>76.343216</td>\n",
       "      <td>NaN</td>\n",
       "      <td>NaN</td>\n",
       "    </tr>\n",
       "    <tr>\n",
       "      <td>2</td>\n",
       "      <td>11:08:44</td>\n",
       "      <td>94795</td>\n",
       "      <td>179.4</td>\n",
       "      <td>73.001514</td>\n",
       "      <td>NaN</td>\n",
       "      <td>NaN</td>\n",
       "    </tr>\n",
       "    <tr>\n",
       "      <td>3</td>\n",
       "      <td>11:09:14</td>\n",
       "      <td>121499</td>\n",
       "      <td>217.9</td>\n",
       "      <td>84.590920</td>\n",
       "      <td>NaN</td>\n",
       "      <td>NaN</td>\n",
       "    </tr>\n",
       "    <tr>\n",
       "      <td>4</td>\n",
       "      <td>11:09:44</td>\n",
       "      <td>128739</td>\n",
       "      <td>193.3</td>\n",
       "      <td>84.295585</td>\n",
       "      <td>NaN</td>\n",
       "      <td>NaN</td>\n",
       "    </tr>\n",
       "  </tbody>\n",
       "</table>\n",
       "</div>"
      ],
      "text/plain": [
       "  Hourly Time  Heat Zone  Max Temperature  Average Temperature  UCL  T2\n",
       "0    11:05:59     153427            207.5            81.657962  NaN NaN\n",
       "1    11:06:29     203807            206.1            76.343216  NaN NaN\n",
       "2    11:08:44      94795            179.4            73.001514  NaN NaN\n",
       "3    11:09:14     121499            217.9            84.590920  NaN NaN\n",
       "4    11:09:44     128739            193.3            84.295585  NaN NaN"
      ]
     },
     "execution_count": 3,
     "metadata": {},
     "output_type": "execute_result"
    }
   ],
   "source": [
    "df = pd.DataFrame(data[['Heat Zone','Max Temperature', 'Average Temperature']])\n",
    "p = len(df.columns) #Number of Variables\n",
    "df.insert(0,\"Hourly Time\", data[\"Hourly Time\"])\n",
    "df[\"UCL\"] = np.nan\n",
    "df[\"T2\"] = np.nan\n",
    "df.head()"
   ]
  },
  {
   "cell_type": "markdown",
   "metadata": {},
   "source": [
    "## 1. Calculating T2 \n",
    "\n",
    "Used Numpy to calculate the means of each the feature columnsn which consisted of Size of Heat Zone, Max Temperature, and Average Temperature"
   ]
  },
  {
   "cell_type": "code",
   "execution_count": 10,
   "metadata": {},
   "outputs": [
    {
     "name": "stdout",
     "output_type": "stream",
     "text": [
      "Average of Heatzone Column: 145112.35\n",
      "Average of Max Temperature: 208.55600000000007\n",
      "Grand Mean of Average Temperature: 82.20139476124946\n",
      "Number of observations: 100\n"
     ]
    }
   ],
   "source": [
    "Heat_Zone_xbar = np.mean(df[\"Heat Zone\"])\n",
    "Max_Temp_xbar = np.mean(df[\"Max Temperature\"])\n",
    "Average_Temp_xbar = np.mean(df[\"Average Temperature\"])\n",
    "m = len(df.index)\n",
    "print(f\"Average of Heatzone Column: {Heat_Zone_xbar}\")\n",
    "print(f\"Average of Max Temperature: {Max_Temp_xbar}\")\n",
    "print(f\"Grand Mean of Average Temperature: {Average_Temp_xbar}\")\n",
    "print(f\"Number of observations: {m}\")"
   ]
  },
  {
   "attachments": {
    "image.png": {
     "image/png": "[encoded data removed]"
    }
   },
   "cell_type": "markdown",
   "metadata": {},
   "source": [
    "Formula of T2 for a dataset comprise of individual observations: ![image.png](attachment:image.png)\n",
    "\n",
    "Construct a matrix using the the columns in our dataframe so we can perform mathematical operations readily using numpy"
   ]
  },
  {
   "cell_type": "code",
   "execution_count": null,
   "metadata": {
    "scrolled": true
   },
   "outputs": [],
   "source": [
    "arr = np.zeros(shape=(p,m))#Generalize to all dimensions\n",
    "\n",
    "arr[0] = df[\"Heat Zone\"]\n",
    "arr[1] = df[\"Max Temperature\"]\n",
    "arr[2] = df[\"Average Temperature\"]"
   ]
  },
  {
   "cell_type": "markdown",
   "metadata": {},
   "source": [
    "Calculate the Covariance Matrix of our data then take the inverse "
   ]
  },
  {
   "cell_type": "code",
   "execution_count": null,
   "metadata": {},
   "outputs": [],
   "source": [
    "S = np.cov(arr)\n",
    "#print(f\"Covariance Matrix: \\n\", S)\n",
    "inverse_S = np.linalg.inv(S)\n",
    "#print(f\"Inverse S: \\n\", inverse_S)"
   ]
  },
  {
   "cell_type": "markdown",
   "metadata": {},
   "source": [
    "Subtracting the means of each column from the data"
   ]
  },
  {
   "cell_type": "code",
   "execution_count": null,
   "metadata": {
    "scrolled": true
   },
   "outputs": [],
   "source": [
    "arr[0] = arr[0] - Heat_Zone_xbar\n",
    "arr[1] = arr[1] - Max_Temp_xbar\n",
    "arr[2] = arr[2] - Average_Temp_xbar"
   ]
  },
  {
   "cell_type": "markdown",
   "metadata": {},
   "source": [
    "Calculate the T2 for each row of our dataset"
   ]
  },
  {
   "cell_type": "code",
   "execution_count": null,
   "metadata": {
    "scrolled": true
   },
   "outputs": [],
   "source": [
    "T2_col = []\n",
    "for i in range(m):\n",
    "    vec = np.array([[arr[0][i]],[arr[1][i]],[arr[2][i]]]) # (3,1)\n",
    "    vec_trans = vec.reshape(1,3) #(1,3)\n",
    "    T2 = np.matmul(np.matmul(vec_trans, inverse_S),vec) #One Indicates Individual Observation\n",
    "    #print(f\"{i}: \",T2)\n",
    "    T2_col.append(T2[0][0])\n",
    "    "
   ]
  },
  {
   "cell_type": "markdown",
   "metadata": {},
   "source": [
    "M = number of samples (100)\n",
    "\n",
    "p = number of variables (3)\n",
    "\n",
    "b = beta distribution\n",
    "\n",
    "a = confidence interval "
   ]
  },
  {
   "attachments": {
    "image.png": {
     "image/png": "[encoded data removed]"
    }
   },
   "cell_type": "markdown",
   "metadata": {},
   "source": [
    "In a Multivariate Control Chart there is only a UCL (as the x-axis serve as the LCL)\n",
    "\n",
    "The Cells below are the steps taken to calculate the UCL\n",
    "\n",
    "Formula: ![image.png](attachment:image.png)\n",
    "\n",
    "*UCL does not depend on T2*"
   ]
  },
  {
   "cell_type": "code",
   "execution_count": null,
   "metadata": {},
   "outputs": [],
   "source": [
    "\n",
    "a = 0.05\n",
    "b = beta.ppf(1-a/2, (p/2),(m-p-1)/2)\n",
    "#print(f\"Beta: {b}\")\n",
    "\n",
    "ucl = (((m-1)**2)/m) * b\n",
    "#print(f\"UCL: {ucl}\")"
   ]
  },
  {
   "cell_type": "markdown",
   "metadata": {},
   "source": [
    "Add more columns to our dataframe"
   ]
  },
  {
   "cell_type": "code",
   "execution_count": null,
   "metadata": {},
   "outputs": [],
   "source": [
    "df.loc[:, \"UCL\"] = ucl\n",
    "df.loc[:, \"T2\"] = T2_col\n",
    "df"
   ]
  },
  {
   "cell_type": "markdown",
   "metadata": {},
   "source": [
    "## 2. Plotting the Multivariate Control Chart \n",
    "\n",
    "Consist of T2 and UCL\n",
    "\n",
    "*No LCL*"
   ]
  },
  {
   "cell_type": "code",
   "execution_count": null,
   "metadata": {},
   "outputs": [],
   "source": [
    "#Rerun if Plot size does not adjust \n",
    "plt.title(\"Multivariate Control Chart\")\n",
    "plt.plot(data[\"Hourly Time\"], df[\"T2\"], \"b-\", label = \"T2\")\n",
    "plt.plot(data[\"Hourly Time\"], df[\"UCL\"], \"r-\", label = \"UCL\")\n",
    "plt.legend(loc=\"best\")\n",
    "plt.xticks(rotation = 90)\n",
    "plt.xlabel(\"Hourly Time\")\n",
    "plt.ylabel(\"T-Square\")\n",
    "plt.figure(figsize=(20,10))\n",
    "plt.rcParams[\"figure.figsize\"] = [22,9]\n",
    "plt.show()"
   ]
  },
  {
   "cell_type": "markdown",
   "metadata": {},
   "source": [
    "Indexing and dropping the observations that are abnormal (*T2 > UCL*)"
   ]
  },
  {
   "cell_type": "markdown",
   "metadata": {},
   "source": [
    "## 3. Remove Abnormal Observations from Dataframe\n",
    "\n",
    "Rows that are considered abnormal are those who have T2 values which are greater than the UCL"
   ]
  },
  {
   "cell_type": "code",
   "execution_count": null,
   "metadata": {
    "scrolled": true
   },
   "outputs": [],
   "source": [
    "#I have improved my code for finding out of bounds since the Univariate Control Chart\n",
    "out_of_bounds = df[df[\"T2\"] > df[\"UCL\"]].index\n",
    "print(\"Number of Abnormal Observations:\", len(out_of_bounds))\n",
    "print(df.loc[out_of_bounds, \"Hourly Time\"])"
   ]
  },
  {
   "cell_type": "code",
   "execution_count": null,
   "metadata": {},
   "outputs": [],
   "source": [
    "df.drop(out_of_bounds, inplace = True)\n",
    "df"
   ]
  },
  {
   "cell_type": "code",
   "execution_count": null,
   "metadata": {},
   "outputs": [],
   "source": [
    "df"
   ]
  },
  {
   "cell_type": "markdown",
   "metadata": {},
   "source": [
    "## Repeat..."
   ]
  },
  {
   "cell_type": "code",
   "execution_count": null,
   "metadata": {},
   "outputs": [],
   "source": [
    "'''Can further be generalize to p by m size dataframes'''\n",
    "def calculations():\n",
    "    \n",
    "    Heat_Zone_xbar = np.mean(df[\"Heat Zone\"])\n",
    "    Max_Temp_xbar = np.mean(df[\"Max Temperature\"])\n",
    "    Average_Temp_xbar = np.mean(df[\"Average Temperature\"])\n",
    "    m = len(df.index)\n",
    "    print(f\"Average of Heatzone Column: {Heat_Zone_xbar}\")\n",
    "    print(f\"Average of Max Temperature: {Max_Temp_xbar}\")\n",
    "    print(f\"Grand Mean of Average Temperature: {Average_Temp_xbar}\")\n",
    "    print(f\"Number of observations: {m}\")\n",
    "    \n",
    "    arr = np.zeros(shape=(p,m))#Generalize to all dimensions\n",
    "\n",
    "    arr[0] = df[\"Heat Zone\"]\n",
    "    arr[1] = df[\"Max Temperature\"]\n",
    "    arr[2] = df[\"Average Temperature\"]\n",
    "    \n",
    "    \n",
    "    S = np.cov(arr)\n",
    "    inverse_S = np.linalg.inv(S)\n",
    "    \n",
    "    arr[0] = arr[0] - Heat_Zone_xbar\n",
    "    arr[1] = arr[1] - Max_Temp_xbar\n",
    "    arr[2] = arr[2] - Average_Temp_xbar\n",
    "    \n",
    "    T2_col = []\n",
    "    for i in range(m):\n",
    "        vec = np.array([[arr[0][i]],[arr[1][i]],[arr[2][i]]]) # (3,1)\n",
    "        vec_trans = vec.reshape(1,3) #(1,3)\n",
    "        T2 = np.matmul(np.matmul(vec_trans, inverse_S),vec) #One Indicates Individual Observation\n",
    "        #print(f\"{i}: \",T2)\n",
    "        T2_col.append(T2[0][0])\n",
    "    \n",
    "    a = 0.05\n",
    "    b = beta.ppf(1-a/2, (p/2),(m-p-1)/2)\n",
    "    ucl = (((m-1)**2)/m) * b\n",
    "    \n",
    "    df.loc[:, \"UCL\"] = ucl\n",
    "    df.loc[:, \"T2\"] = T2_col\n",
    "    df\n",
    "    \n",
    "def plot_control_chart():\n",
    "    plt.title(\"Multivariate Control Chart\")\n",
    "    plt.plot(df[\"Hourly Time\"], df[\"T2\"], \"b-\", label = \"T2\")\n",
    "    plt.plot(df[\"Hourly Time\"], df[\"UCL\"], \"r-\", label = \"UCL\")\n",
    "    plt.legend(loc=\"best\")\n",
    "    plt.xticks(rotation = 90)\n",
    "    plt.xlabel(\"Hourly Time\")\n",
    "    plt.ylabel(\"T-Square\")\n",
    "    plt.figure(figsize=(20,10))\n",
    "    plt.rcParams[\"figure.figsize\"] = [22,9]\n",
    "    plt.show()\n",
    "    \n",
    "def out_of_control():\n",
    "    out_of_bounds = df[df[\"T2\"] > df[\"UCL\"]].index\n",
    "    print(\"Number of Abnormal Observations:\", len(out_of_bounds))\n",
    "    print(df.loc[out_of_bounds, \"Hourly Time\"])\n",
    "    df.drop(out_of_bounds, inplace = True)\n",
    "    df\n"
   ]
  },
  {
   "cell_type": "markdown",
   "metadata": {},
   "source": [
    "## Iteration 2"
   ]
  },
  {
   "cell_type": "markdown",
   "metadata": {},
   "source": [
    "After dropping all the abnormal observations now we have a *normal* dataset that can be used to model future observations.\n",
    "\n",
    "**Assuming we don't need to recalculate UCL or T2 on the second round of iteration but I'll have to confirm that with the professor**"
   ]
  },
  {
   "cell_type": "code",
   "execution_count": null,
   "metadata": {
    "scrolled": false
   },
   "outputs": [],
   "source": [
    "plot_control_chart()\n",
    "\n",
    "out_of_control()\n"
   ]
  },
  {
   "cell_type": "markdown",
   "metadata": {},
   "source": [
    "There are no more outliers so now we can use this dataset as a way to model future observations."
   ]
  },
  {
   "cell_type": "markdown",
   "metadata": {},
   "source": [
    "# This concludes this Notebook.\n",
    "\n",
    "In the next notebook we will examine **T2 Decomposition** which will allows us to see which of the 3 variables caused the observation to be consider out of control."
   ]
  },
  {
   "cell_type": "code",
   "execution_count": null,
   "metadata": {},
   "outputs": [],
   "source": []
  }
 ],
 "metadata": {
  "kernelspec": {
   "display_name": "Python 3",
   "language": "python",
   "name": "python3"
  },
  "language_info": {
   "codemirror_mode": {
    "name": "ipython",
    "version": 3
   },
   "file_extension": ".py",
   "mimetype": "text/x-python",
   "name": "python",
   "nbconvert_exporter": "python",
   "pygments_lexer": "ipython3",
   "version": "3.7.4"
  }
 },
 "nbformat": 4,
 "nbformat_minor": 2
}
